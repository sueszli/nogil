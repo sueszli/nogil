{
 "cells": [
  {
   "cell_type": "code",
   "execution_count": 1,
   "metadata": {},
   "outputs": [
    {
     "name": "stdout",
     "output_type": "stream",
     "text": [
      "\u001b[34m==>\u001b[0m \u001b[1mDownloading https://formulae.brew.sh/api/formula.jws.json\u001b[0m\n",
      "\n",
      "\u001b[34m==>\u001b[0m \u001b[1mDownloading https://formulae.brew.sh/api/cask.jws.json\u001b[0m\n",
      "\n",
      "\u001b[33mWarning:\u001b[0m hyperfine 1.19.0 is already installed and up-to-date.\n",
      "To reinstall 1.19.0, run:\n",
      "  brew reinstall hyperfine\n"
     ]
    }
   ],
   "source": [
    "!brew install hyperfine"
   ]
  },
  {
   "cell_type": "code",
   "execution_count": 2,
   "metadata": {},
   "outputs": [
    {
     "name": "stdout",
     "output_type": "stream",
     "text": [
      "\u001b[2K\u001b[1mBenchmark \u001b[0m\u001b[1m1\u001b[0m: python ./0_plain/itertools.py aaa██░░ ETA 00:00:00 \n",
      "\u001b[2K  Time (\u001b[1;32mmean\u001b[0m ± \u001b[32mσ\u001b[0m):     \u001b[1;32m244.5 ms\u001b[0m ± \u001b[32m  5.1 ms\u001b[0m    [User: \u001b[34m236.1 ms\u001b[0m, System: \u001b[34m6.4 ms\u001b[0m]\n",
      "  Range (\u001b[36mmin\u001b[0m … \u001b[35mmax\u001b[0m):   \u001b[36m240.0 ms\u001b[0m … \u001b[35m258.4 ms\u001b[0m    \u001b[2m12 runs\u001b[0m\n",
      " \n",
      "\u001b[2K\u001b[1mBenchmark \u001b[0m\u001b[1m1\u001b[0m: python ./0_plain/lib.py aaa██████░░░░ ETA 00:00:00 \n",
      "\u001b[2K  Time (\u001b[1;32mmean\u001b[0m ± \u001b[32mσ\u001b[0m):     \u001b[1;32m 19.4 ms\u001b[0m ± \u001b[32m  1.1 ms\u001b[0m    [User: \u001b[34m15.3 ms\u001b[0m, System: \u001b[34m3.1 ms\u001b[0m]\n",
      "  Range (\u001b[36mmin\u001b[0m … \u001b[35mmax\u001b[0m):   \u001b[36m 17.4 ms\u001b[0m … \u001b[35m 25.6 ms\u001b[0m    \u001b[2m143 runs\u001b[0m\n",
      " \n",
      "\u001b[2K\u001b[1mBenchmark \u001b[0m\u001b[1m1\u001b[0m: python ./0_plain/plain.py aaa███████░ ETA 00:00:00 \n",
      "\u001b[2K  Time (\u001b[1;32mmean\u001b[0m ± \u001b[32mσ\u001b[0m):     \u001b[1;32m268.0 ms\u001b[0m ± \u001b[32m  2.2 ms\u001b[0m    [User: \u001b[34m258.4 ms\u001b[0m, System: \u001b[34m7.8 ms\u001b[0m]\n",
      "  Range (\u001b[36mmin\u001b[0m … \u001b[35mmax\u001b[0m):   \u001b[36m265.4 ms\u001b[0m … \u001b[35m271.3 ms\u001b[0m    \u001b[2m11 runs\u001b[0m\n",
      " \n"
     ]
    }
   ],
   "source": [
    "!hyperfine \"python ./0_plain/itertools.py aaa\"\n",
    "!hyperfine \"python ./0_plain/lib.py aaa\"\n",
    "!hyperfine \"python ./0_plain/plain.py aaa\""
   ]
  },
  {
   "cell_type": "code",
   "execution_count": 3,
   "metadata": {},
   "outputs": [
    {
     "name": "stdout",
     "output_type": "stream",
     "text": [
      "\u001b[2K\u001b[1mBenchmark \u001b[0m\u001b[1m1\u001b[0m: python ./1_multiprocessing/imap_unordered.py aaa00 \n",
      "\u001b[2K ⠴ Current estimate: \u001b[32m210.6 ms\u001b[0m     ████████████████████████████░░░░ ETA 00:00:00   Time (\u001b[1;32mmean\u001b[0m ± \u001b[32mσ\u001b[0m):     \u001b[1;32m207.2 ms\u001b[0m ± \u001b[32m101.7 ms\u001b[0m    [User: \u001b[34m564.2 ms\u001b[0m, System: \u001b[34m246.5 ms\u001b[0m]\n",
      "  Range (\u001b[36mmin\u001b[0m … \u001b[35mmax\u001b[0m):   \u001b[36m154.5 ms\u001b[0m … \u001b[35m490.6 ms\u001b[0m    \u001b[2m10 runs\u001b[0m\n",
      " \n",
      "  \u001b[33mWarning\u001b[0m: The first benchmarking run for this command was significantly slower than the rest (490.6 ms). This could be caused by (filesystem) caches that were not filled until after the first run. You should consider using the '--warmup' option to fill those caches before the actual benchmark. Alternatively, use the '--prepare' option to clear the caches before each timing run.\n",
      " \n",
      "\u001b[2K\u001b[1mBenchmark \u001b[0m\u001b[1m1\u001b[0m: python ./1_multiprocessing/imap.py aaaETA 00:00:00 \n",
      "\u001b[2K  Time (\u001b[1;32mmean\u001b[0m ± \u001b[32mσ\u001b[0m):     \u001b[1;32m192.0 ms\u001b[0m ± \u001b[32m 23.5 ms\u001b[0m    [User: \u001b[34m583.6 ms\u001b[0m, System: \u001b[34m267.2 ms\u001b[0m]\n",
      "  Range (\u001b[36mmin\u001b[0m … \u001b[35mmax\u001b[0m):   \u001b[36m164.0 ms\u001b[0m … \u001b[35m247.4 ms\u001b[0m    \u001b[2m16 runs\u001b[0m\n",
      " \n",
      "\u001b[2K\u001b[1mBenchmark \u001b[0m\u001b[1m1\u001b[0m: python ./1_multiprocessing/map_async.py aaa0:00:00 \n",
      "\u001b[2K  Time (\u001b[1;32mmean\u001b[0m ± \u001b[32mσ\u001b[0m):     \u001b[1;32m183.2 ms\u001b[0m ± \u001b[32m  7.7 ms\u001b[0m    [User: \u001b[34m766.9 ms\u001b[0m, System: \u001b[34m169.7 ms\u001b[0m]\n",
      "  Range (\u001b[36mmin\u001b[0m … \u001b[35mmax\u001b[0m):   \u001b[36m172.2 ms\u001b[0m … \u001b[35m198.6 ms\u001b[0m    \u001b[2m17 runs\u001b[0m\n",
      " \n",
      "\u001b[2K\u001b[1mBenchmark \u001b[0m\u001b[1m1\u001b[0m: python ./1_multiprocessing/map.py aaa ETA 00:00:00 \n",
      "\u001b[2K  Time (\u001b[1;32mmean\u001b[0m ± \u001b[32mσ\u001b[0m):     \u001b[1;32m182.5 ms\u001b[0m ± \u001b[32m 11.8 ms\u001b[0m    [User: \u001b[34m753.9 ms\u001b[0m, System: \u001b[34m170.8 ms\u001b[0m]\n",
      "  Range (\u001b[36mmin\u001b[0m … \u001b[35mmax\u001b[0m):   \u001b[36m169.1 ms\u001b[0m … \u001b[35m212.5 ms\u001b[0m    \u001b[2m17 runs\u001b[0m\n",
      " \n"
     ]
    }
   ],
   "source": [
    "!hyperfine \"python ./1_multiprocessing/imap_unordered.py aaa\"\n",
    "!hyperfine \"python ./1_multiprocessing/imap.py aaa\"\n",
    "!hyperfine \"python ./1_multiprocessing/map_async.py aaa\"\n",
    "!hyperfine \"python ./1_multiprocessing/map.py aaa\""
   ]
  },
  {
   "cell_type": "code",
   "execution_count": null,
   "metadata": {},
   "outputs": [
    {
     "name": "stdout",
     "output_type": "stream",
     "text": [
      "True\n"
     ]
    }
   ],
   "source": []
  },
  {
   "cell_type": "code",
   "execution_count": null,
   "metadata": {},
   "outputs": [],
   "source": []
  }
 ],
 "metadata": {
  "kernelspec": {
   "display_name": ".venv",
   "language": "python",
   "name": "python3"
  },
  "language_info": {
   "codemirror_mode": {
    "name": "ipython",
    "version": 3
   },
   "file_extension": ".py",
   "mimetype": "text/x-python",
   "name": "python",
   "nbconvert_exporter": "python",
   "pygments_lexer": "ipython3",
   "version": "3.13.0"
  }
 },
 "nbformat": 4,
 "nbformat_minor": 2
}
