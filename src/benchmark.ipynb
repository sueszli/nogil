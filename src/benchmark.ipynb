{
 "cells": [
  {
   "cell_type": "code",
   "execution_count": 2,
   "metadata": {},
   "outputs": [
    {
     "name": "stdout",
     "output_type": "stream",
     "text": [
      "\u001b[33mWarning:\u001b[0m hyperfine 1.19.0 is already installed and up-to-date.\n",
      "To reinstall 1.19.0, run:\n",
      "  brew reinstall hyperfine\n"
     ]
    }
   ],
   "source": [
    "!brew install hyperfine"
   ]
  },
  {
   "cell_type": "code",
   "execution_count": null,
   "metadata": {},
   "outputs": [
    {
     "name": "stdout",
     "output_type": "stream",
     "text": [
      "\u001b[2K\u001b[1mBenchmark \u001b[0m\u001b[1m1\u001b[0m: python ./0_plain/itertools.py aaa░░░░ ETA 00:00:00 \n",
      "\u001b[2K ⠏ Current estimate: \u001b[32m217.1 ms\u001b[0m     ███████░░░░░░░░░░░░░░░░░░░░░░░░░ ETA 00:00:02 "
     ]
    }
   ],
   "source": [
    "!hyperfine \"python ./0_plain/itertools.py aaa\"\n",
    "!hyperfine \"python ./0_plain/lib.py aaa\"\n",
    "!hyperfine \"python ./0_plain/plain.py aaa\""
   ]
  },
  {
   "cell_type": "code",
   "execution_count": null,
   "metadata": {},
   "outputs": [],
   "source": []
  }
 ],
 "metadata": {
  "kernelspec": {
   "display_name": ".venv",
   "language": "python",
   "name": "python3"
  },
  "language_info": {
   "codemirror_mode": {
    "name": "ipython",
    "version": 3
   },
   "file_extension": ".py",
   "mimetype": "text/x-python",
   "name": "python",
   "nbconvert_exporter": "python",
   "pygments_lexer": "ipython3",
   "version": "3.11.9"
  }
 },
 "nbformat": 4,
 "nbformat_minor": 2
}
