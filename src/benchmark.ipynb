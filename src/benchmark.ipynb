{
 "cells": [
  {
   "cell_type": "code",
   "execution_count": 5,
   "metadata": {},
   "outputs": [
    {
     "name": "stdout",
     "output_type": "stream",
     "text": [
      "System Information\n",
      "Date:  2024-11-20 14:40:44\n",
      "OS:  macOS-14.6.1-arm64-arm-64bit-Mach-O\n",
      "CPU:  arm\n",
      "CPU Cores:  12\n",
      "Logical CPU Cores:  12\n",
      "CPU Frequency:  3504 MHz\n",
      "Memory:  17179869184\n",
      "Available Memory:  5375328256\n",
      "Used Memory:  8188624896\n",
      "Memory Percentage:  68.7 %\n",
      "Disk Usage:  494384795648\n",
      "Disk Used:  13201899520\n",
      "Disk Free:  322967244800\n",
      "Disk Percentage:  3.9 %\n",
      "Network Interfaces:  {'lo0': [snicaddr(family=<AddressFamily.AF_INET: 2>, address='127.0.0.1', netmask='255.0.0.0', broadcast=None, ptp=None), snicaddr(family=<AddressFamily.AF_INET6: 30>, address='::1', netmask='ffff:ffff:ffff:ffff:ffff:ffff:ffff:ffff', broadcast=None, ptp=None), snicaddr(family=<AddressFamily.AF_INET6: 30>, address='fe80::1%lo0', netmask='ffff:ffff:ffff:ffff::', broadcast=None, ptp=None)], 'en0': [snicaddr(family=<AddressFamily.AF_INET: 2>, address='192.168.178.24', netmask='255.255.255.0', broadcast='192.168.178.255', ptp=None), snicaddr(family=<AddressFamily.AF_LINK: 18>, address='5c:e9:1e:c3:41:2f', netmask=None, broadcast=None, ptp=None)], 'en5': [snicaddr(family=<AddressFamily.AF_INET: 2>, address='192.168.178.21', netmask='255.255.255.0', broadcast='192.168.178.255', ptp=None), snicaddr(family=<AddressFamily.AF_LINK: 18>, address='80:6d:97:35:98:f7', netmask=None, broadcast=None, ptp=None)], 'anpi0': [snicaddr(family=<AddressFamily.AF_LINK: 18>, address='72:fa:2a:3d:fb:8d', netmask=None, broadcast=None, ptp=None)], 'anpi2': [snicaddr(family=<AddressFamily.AF_LINK: 18>, address='72:fa:2a:3d:fb:8f', netmask=None, broadcast=None, ptp=None)], 'anpi1': [snicaddr(family=<AddressFamily.AF_LINK: 18>, address='72:fa:2a:3d:fb:8e', netmask=None, broadcast=None, ptp=None)], 'en4': [snicaddr(family=<AddressFamily.AF_LINK: 18>, address='72:fa:2a:3d:fb:6d', netmask=None, broadcast=None, ptp=None)], 'en6': [snicaddr(family=<AddressFamily.AF_LINK: 18>, address='72:fa:2a:3d:fb:6e', netmask=None, broadcast=None, ptp=None)], 'en7': [snicaddr(family=<AddressFamily.AF_LINK: 18>, address='72:fa:2a:3d:fb:6f', netmask=None, broadcast=None, ptp=None)], 'en1': [snicaddr(family=<AddressFamily.AF_LINK: 18>, address='36:70:4c:27:74:80', netmask=None, broadcast=None, ptp=None)], 'en2': [snicaddr(family=<AddressFamily.AF_LINK: 18>, address='36:70:4c:27:74:84', netmask=None, broadcast=None, ptp=None)], 'en3': [snicaddr(family=<AddressFamily.AF_LINK: 18>, address='36:70:4c:27:74:88', netmask=None, broadcast=None, ptp=None)], 'bridge0': [snicaddr(family=<AddressFamily.AF_LINK: 18>, address='36:70:4c:27:74:80', netmask=None, broadcast=None, ptp=None)], 'ap1': [snicaddr(family=<AddressFamily.AF_LINK: 18>, address='7e:e9:1e:c3:41:2f', netmask=None, broadcast=None, ptp=None), snicaddr(family=<AddressFamily.AF_INET6: 30>, address='fe80::7ce9:1eff:fec3:412f%ap1', netmask='ffff:ffff:ffff:ffff::', broadcast=None, ptp=None)], 'awdl0': [snicaddr(family=<AddressFamily.AF_LINK: 18>, address='42:f1:70:50:67:59', netmask=None, broadcast=None, ptp=None), snicaddr(family=<AddressFamily.AF_INET6: 30>, address='fe80::40f1:70ff:fe50:6759%awdl0', netmask='ffff:ffff:ffff:ffff::', broadcast=None, ptp=None)], 'llw0': [snicaddr(family=<AddressFamily.AF_LINK: 18>, address='42:f1:70:50:67:59', netmask=None, broadcast=None, ptp=None), snicaddr(family=<AddressFamily.AF_INET6: 30>, address='fe80::40f1:70ff:fe50:6759%llw0', netmask='ffff:ffff:ffff:ffff::', broadcast=None, ptp=None)], 'utun0': [snicaddr(family=<AddressFamily.AF_INET6: 30>, address='fe80::4378:a043:e315:50e5%utun0', netmask='ffff:ffff:ffff:ffff::', broadcast=None, ptp=None)], 'utun1': [snicaddr(family=<AddressFamily.AF_INET6: 30>, address='fe80::ffc9:210b:cf72:fec1%utun1', netmask='ffff:ffff:ffff:ffff::', broadcast=None, ptp=None)], 'utun2': [snicaddr(family=<AddressFamily.AF_INET6: 30>, address='fe80::e377:1043:e838:8600%utun2', netmask='ffff:ffff:ffff:ffff::', broadcast=None, ptp=None)], 'utun3': [snicaddr(family=<AddressFamily.AF_INET6: 30>, address='fe80::ce81:b1c:bd2c:69e%utun3', netmask='ffff:ffff:ffff:ffff::', broadcast=None, ptp=None)]}\n",
      "Network Stats:  {'lo0': snicstats(isup=True, duplex=<NicDuplex.NIC_DUPLEX_UNKNOWN: 0>, speed=0, mtu=16384, flags='up,loopback,running,multicast'), 'gif0': snicstats(isup=False, duplex=<NicDuplex.NIC_DUPLEX_UNKNOWN: 0>, speed=0, mtu=1280, flags='pointopoint,multicast'), 'stf0': snicstats(isup=False, duplex=<NicDuplex.NIC_DUPLEX_UNKNOWN: 0>, speed=0, mtu=1280, flags=''), 'anpi0': snicstats(isup=True, duplex=<NicDuplex.NIC_DUPLEX_UNKNOWN: 0>, speed=0, mtu=1500, flags='up,broadcast,notrailers,running,multicast,simplex'), 'anpi2': snicstats(isup=True, duplex=<NicDuplex.NIC_DUPLEX_UNKNOWN: 0>, speed=0, mtu=1500, flags='up,broadcast,notrailers,running,multicast,simplex'), 'anpi1': snicstats(isup=True, duplex=<NicDuplex.NIC_DUPLEX_UNKNOWN: 0>, speed=0, mtu=1500, flags='up,broadcast,notrailers,running,multicast,simplex'), 'en4': snicstats(isup=True, duplex=<NicDuplex.NIC_DUPLEX_UNKNOWN: 0>, speed=0, mtu=1500, flags='up,broadcast,notrailers,running,multicast,simplex'), 'en6': snicstats(isup=True, duplex=<NicDuplex.NIC_DUPLEX_UNKNOWN: 0>, speed=0, mtu=1500, flags='up,broadcast,notrailers,running,multicast,simplex'), 'en7': snicstats(isup=True, duplex=<NicDuplex.NIC_DUPLEX_UNKNOWN: 0>, speed=0, mtu=1500, flags='up,broadcast,notrailers,running,multicast,simplex'), 'en1': snicstats(isup=True, duplex=<NicDuplex.NIC_DUPLEX_FULL: 2>, speed=0, mtu=1500, flags='up,broadcast,notrailers,running,promisc,multicast,simplex'), 'en2': snicstats(isup=True, duplex=<NicDuplex.NIC_DUPLEX_FULL: 2>, speed=0, mtu=1500, flags='up,broadcast,notrailers,running,promisc,multicast,simplex'), 'en3': snicstats(isup=True, duplex=<NicDuplex.NIC_DUPLEX_FULL: 2>, speed=0, mtu=1500, flags='up,broadcast,notrailers,running,promisc,multicast,simplex'), 'bridge0': snicstats(isup=True, duplex=<NicDuplex.NIC_DUPLEX_UNKNOWN: 0>, speed=0, mtu=1500, flags='up,broadcast,notrailers,running,multicast,simplex'), 'ap1': snicstats(isup=True, duplex=<NicDuplex.NIC_DUPLEX_UNKNOWN: 0>, speed=0, mtu=1500, flags='up,broadcast,running,multicast,simplex'), 'en0': snicstats(isup=True, duplex=<NicDuplex.NIC_DUPLEX_UNKNOWN: 0>, speed=0, mtu=1500, flags='up,broadcast,notrailers,running,multicast,simplex'), 'awdl0': snicstats(isup=True, duplex=<NicDuplex.NIC_DUPLEX_UNKNOWN: 0>, speed=0, mtu=1500, flags='up,broadcast,running,multicast,simplex'), 'llw0': snicstats(isup=True, duplex=<NicDuplex.NIC_DUPLEX_UNKNOWN: 0>, speed=0, mtu=1500, flags='up,broadcast,notrailers,running,multicast,simplex'), 'utun0': snicstats(isup=True, duplex=<NicDuplex.NIC_DUPLEX_UNKNOWN: 0>, speed=0, mtu=1500, flags='up,pointopoint,running,multicast'), 'utun1': snicstats(isup=True, duplex=<NicDuplex.NIC_DUPLEX_UNKNOWN: 0>, speed=0, mtu=1380, flags='up,pointopoint,running,multicast'), 'utun2': snicstats(isup=True, duplex=<NicDuplex.NIC_DUPLEX_UNKNOWN: 0>, speed=0, mtu=2000, flags='up,pointopoint,running,multicast'), 'utun3': snicstats(isup=True, duplex=<NicDuplex.NIC_DUPLEX_UNKNOWN: 0>, speed=0, mtu=1000, flags='up,pointopoint,running,multicast'), 'en5': snicstats(isup=True, duplex=<NicDuplex.NIC_DUPLEX_FULL: 2>, speed=100, mtu=1500, flags='up,broadcast,notrailers,running,multicast,simplex')}\n",
      "Python:  3.13.0 (main, Nov 20 2024, 09:00:54) [Clang 15.0.0 (clang-1500.3.9.4)]\n",
      "Python Version:  3.13.0\n",
      "Python Compiler:  Clang 15.0.0 (clang-1500.3.9.4)\n",
      "Python Build:  ('main', 'Nov 20 2024 09:00:54')\n",
      "Python Implementation:  CPython\n"
     ]
    }
   ],
   "source": [
    "import platform\n",
    "import psutil\n",
    "import sys\n",
    "import time\n",
    "\n",
    "print(\"System Information\")\n",
    "print(\"Date: \", time.strftime(\"%Y-%m-%d %H:%M:%S\", time.localtime()))\n",
    "print(\"OS: \", platform.platform())\n",
    "print(\"CPU: \", platform.processor())\n",
    "print(\"CPU Cores: \", psutil.cpu_count(logical=False))\n",
    "print(\"Logical CPU Cores: \", psutil.cpu_count(logical=True))\n",
    "print(\"CPU Frequency: \", psutil.cpu_freq().max, \"MHz\")\n",
    "print(\"Memory: \", psutil.virtual_memory().total)\n",
    "print(\"Available Memory: \", psutil.virtual_memory().available)\n",
    "print(\"Used Memory: \", psutil.virtual_memory().used)\n",
    "print(\"Memory Percentage: \", psutil.virtual_memory().percent, \"%\")\n",
    "print(\"Disk Usage: \", psutil.disk_usage('/').total)\n",
    "print(\"Disk Used: \", psutil.disk_usage('/').used)\n",
    "print(\"Disk Free: \", psutil.disk_usage('/').free)\n",
    "print(\"Disk Percentage: \", psutil.disk_usage('/').percent, \"%\")\n",
    "print(\"Network Interfaces: \", psutil.net_if_addrs())\n",
    "print(\"Network Stats: \", psutil.net_if_stats())\n",
    "print(\"Python: \", sys.version)\n",
    "print(\"Python Version: \", platform.python_version())\n",
    "print(\"Python Compiler: \", platform.python_compiler())\n",
    "print(\"Python Build: \", platform.python_build())\n",
    "print(\"Python Implementation: \", platform.python_implementation())"
   ]
  },
  {
   "cell_type": "code",
   "execution_count": 1,
   "metadata": {},
   "outputs": [
    {
     "name": "stdout",
     "output_type": "stream",
     "text": [
      "\u001b[34m==>\u001b[0m \u001b[1mDownloading https://formulae.brew.sh/api/formula.jws.json\u001b[0m\n",
      "\n",
      "\u001b[34m==>\u001b[0m \u001b[1mDownloading https://formulae.brew.sh/api/cask.jws.json\u001b[0m\n",
      "\n",
      "\u001b[33mWarning:\u001b[0m hyperfine 1.19.0 is already installed and up-to-date.\n",
      "To reinstall 1.19.0, run:\n",
      "  brew reinstall hyperfine\n"
     ]
    }
   ],
   "source": [
    "!brew install hyperfine"
   ]
  },
  {
   "cell_type": "code",
   "execution_count": 2,
   "metadata": {},
   "outputs": [
    {
     "name": "stdout",
     "output_type": "stream",
     "text": [
      "\u001b[2K\u001b[1mBenchmark \u001b[0m\u001b[1m1\u001b[0m: python ./0_plain/itertools.py aaa██░░ ETA 00:00:00 \n",
      "\u001b[2K  Time (\u001b[1;32mmean\u001b[0m ± \u001b[32mσ\u001b[0m):     \u001b[1;32m244.5 ms\u001b[0m ± \u001b[32m  5.1 ms\u001b[0m    [User: \u001b[34m236.1 ms\u001b[0m, System: \u001b[34m6.4 ms\u001b[0m]\n",
      "  Range (\u001b[36mmin\u001b[0m … \u001b[35mmax\u001b[0m):   \u001b[36m240.0 ms\u001b[0m … \u001b[35m258.4 ms\u001b[0m    \u001b[2m12 runs\u001b[0m\n",
      " \n",
      "\u001b[2K\u001b[1mBenchmark \u001b[0m\u001b[1m1\u001b[0m: python ./0_plain/lib.py aaa██████░░░░ ETA 00:00:00 \n",
      "\u001b[2K  Time (\u001b[1;32mmean\u001b[0m ± \u001b[32mσ\u001b[0m):     \u001b[1;32m 19.4 ms\u001b[0m ± \u001b[32m  1.1 ms\u001b[0m    [User: \u001b[34m15.3 ms\u001b[0m, System: \u001b[34m3.1 ms\u001b[0m]\n",
      "  Range (\u001b[36mmin\u001b[0m … \u001b[35mmax\u001b[0m):   \u001b[36m 17.4 ms\u001b[0m … \u001b[35m 25.6 ms\u001b[0m    \u001b[2m143 runs\u001b[0m\n",
      " \n",
      "\u001b[2K\u001b[1mBenchmark \u001b[0m\u001b[1m1\u001b[0m: python ./0_plain/plain.py aaa███████░ ETA 00:00:00 \n",
      "\u001b[2K  Time (\u001b[1;32mmean\u001b[0m ± \u001b[32mσ\u001b[0m):     \u001b[1;32m268.0 ms\u001b[0m ± \u001b[32m  2.2 ms\u001b[0m    [User: \u001b[34m258.4 ms\u001b[0m, System: \u001b[34m7.8 ms\u001b[0m]\n",
      "  Range (\u001b[36mmin\u001b[0m … \u001b[35mmax\u001b[0m):   \u001b[36m265.4 ms\u001b[0m … \u001b[35m271.3 ms\u001b[0m    \u001b[2m11 runs\u001b[0m\n",
      " \n"
     ]
    }
   ],
   "source": [
    "!hyperfine \"python ./0_plain/itertools.py aaa\"\n",
    "!hyperfine \"python ./0_plain/lib.py aaa\"\n",
    "!hyperfine \"python ./0_plain/plain.py aaa\""
   ]
  },
  {
   "cell_type": "code",
   "execution_count": 3,
   "metadata": {},
   "outputs": [
    {
     "name": "stdout",
     "output_type": "stream",
     "text": [
      "\u001b[2K\u001b[1mBenchmark \u001b[0m\u001b[1m1\u001b[0m: python ./1_multiprocessing/imap_unordered.py aaa00 \n",
      "\u001b[2K ⠴ Current estimate: \u001b[32m210.6 ms\u001b[0m     ████████████████████████████░░░░ ETA 00:00:00   Time (\u001b[1;32mmean\u001b[0m ± \u001b[32mσ\u001b[0m):     \u001b[1;32m207.2 ms\u001b[0m ± \u001b[32m101.7 ms\u001b[0m    [User: \u001b[34m564.2 ms\u001b[0m, System: \u001b[34m246.5 ms\u001b[0m]\n",
      "  Range (\u001b[36mmin\u001b[0m … \u001b[35mmax\u001b[0m):   \u001b[36m154.5 ms\u001b[0m … \u001b[35m490.6 ms\u001b[0m    \u001b[2m10 runs\u001b[0m\n",
      " \n",
      "  \u001b[33mWarning\u001b[0m: The first benchmarking run for this command was significantly slower than the rest (490.6 ms). This could be caused by (filesystem) caches that were not filled until after the first run. You should consider using the '--warmup' option to fill those caches before the actual benchmark. Alternatively, use the '--prepare' option to clear the caches before each timing run.\n",
      " \n",
      "\u001b[2K\u001b[1mBenchmark \u001b[0m\u001b[1m1\u001b[0m: python ./1_multiprocessing/imap.py aaaETA 00:00:00 \n",
      "\u001b[2K  Time (\u001b[1;32mmean\u001b[0m ± \u001b[32mσ\u001b[0m):     \u001b[1;32m192.0 ms\u001b[0m ± \u001b[32m 23.5 ms\u001b[0m    [User: \u001b[34m583.6 ms\u001b[0m, System: \u001b[34m267.2 ms\u001b[0m]\n",
      "  Range (\u001b[36mmin\u001b[0m … \u001b[35mmax\u001b[0m):   \u001b[36m164.0 ms\u001b[0m … \u001b[35m247.4 ms\u001b[0m    \u001b[2m16 runs\u001b[0m\n",
      " \n",
      "\u001b[2K\u001b[1mBenchmark \u001b[0m\u001b[1m1\u001b[0m: python ./1_multiprocessing/map_async.py aaa0:00:00 \n",
      "\u001b[2K  Time (\u001b[1;32mmean\u001b[0m ± \u001b[32mσ\u001b[0m):     \u001b[1;32m183.2 ms\u001b[0m ± \u001b[32m  7.7 ms\u001b[0m    [User: \u001b[34m766.9 ms\u001b[0m, System: \u001b[34m169.7 ms\u001b[0m]\n",
      "  Range (\u001b[36mmin\u001b[0m … \u001b[35mmax\u001b[0m):   \u001b[36m172.2 ms\u001b[0m … \u001b[35m198.6 ms\u001b[0m    \u001b[2m17 runs\u001b[0m\n",
      " \n",
      "\u001b[2K\u001b[1mBenchmark \u001b[0m\u001b[1m1\u001b[0m: python ./1_multiprocessing/map.py aaa ETA 00:00:00 \n",
      "\u001b[2K  Time (\u001b[1;32mmean\u001b[0m ± \u001b[32mσ\u001b[0m):     \u001b[1;32m182.5 ms\u001b[0m ± \u001b[32m 11.8 ms\u001b[0m    [User: \u001b[34m753.9 ms\u001b[0m, System: \u001b[34m170.8 ms\u001b[0m]\n",
      "  Range (\u001b[36mmin\u001b[0m … \u001b[35mmax\u001b[0m):   \u001b[36m169.1 ms\u001b[0m … \u001b[35m212.5 ms\u001b[0m    \u001b[2m17 runs\u001b[0m\n",
      " \n"
     ]
    }
   ],
   "source": [
    "!hyperfine \"python ./1_multiprocessing/imap_unordered.py aaa\"\n",
    "!hyperfine \"python ./1_multiprocessing/imap.py aaa\"\n",
    "!hyperfine \"python ./1_multiprocessing/map_async.py aaa\"\n",
    "!hyperfine \"python ./1_multiprocessing/map.py aaa\""
   ]
  },
  {
   "cell_type": "code",
   "execution_count": null,
   "metadata": {},
   "outputs": [
    {
     "name": "stdout",
     "output_type": "stream",
     "text": [
      "True\n"
     ]
    }
   ],
   "source": []
  },
  {
   "cell_type": "code",
   "execution_count": null,
   "metadata": {},
   "outputs": [],
   "source": []
  }
 ],
 "metadata": {
  "kernelspec": {
   "display_name": ".venv",
   "language": "python",
   "name": "python3"
  },
  "language_info": {
   "codemirror_mode": {
    "name": "ipython",
    "version": 3
   },
   "file_extension": ".py",
   "mimetype": "text/x-python",
   "name": "python",
   "nbconvert_exporter": "python",
   "pygments_lexer": "ipython3",
   "version": "3.13.0"
  }
 },
 "nbformat": 4,
 "nbformat_minor": 2
}
