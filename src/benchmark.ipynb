{
 "cells": [
  {
   "cell_type": "code",
   "execution_count": 2,
   "metadata": {},
   "outputs": [
    {
     "name": "stdout",
     "output_type": "stream",
     "text": [
      "\u001b[33mWarning:\u001b[0m hyperfine 1.19.0 is already installed and up-to-date.\n",
      "To reinstall 1.19.0, run:\n",
      "  brew reinstall hyperfine\n"
     ]
    }
   ],
   "source": [
    "!brew install hyperfine"
   ]
  },
  {
   "cell_type": "code",
   "execution_count": 19,
   "metadata": {},
   "outputs": [
    {
     "name": "stdout",
     "output_type": "stream",
     "text": [
      "\u001b[2K\u001b[1mBenchmark \u001b[0m\u001b[1m1\u001b[0m: python ./0_plain/itertools.py aaa░░░░ ETA 00:00:00 \n",
      "\u001b[2K  Time (\u001b[1;32mmean\u001b[0m ± \u001b[32mσ\u001b[0m):     \u001b[1;32m215.9 ms\u001b[0m ± \u001b[32m  1.6 ms\u001b[0m    [User: \u001b[34m209.6 ms\u001b[0m, System: \u001b[34m5.0 ms\u001b[0m]\n",
      "  Range (\u001b[36mmin\u001b[0m … \u001b[35mmax\u001b[0m):   \u001b[36m213.6 ms\u001b[0m … \u001b[35m218.7 ms\u001b[0m    \u001b[2m13 runs\u001b[0m\n",
      " \n",
      "\u001b[2K\u001b[1mBenchmark \u001b[0m\u001b[1m1\u001b[0m: python ./0_plain/lib.py aaa░░░░░░░░░░ ETA 00:00:00 \n",
      "\u001b[2K  Time (\u001b[1;32mmean\u001b[0m ± \u001b[32mσ\u001b[0m):     \u001b[1;32m 17.0 ms\u001b[0m ± \u001b[32m  1.5 ms\u001b[0m    [User: \u001b[34m13.4 ms\u001b[0m, System: \u001b[34m2.8 ms\u001b[0m]\n",
      "  Range (\u001b[36mmin\u001b[0m … \u001b[35mmax\u001b[0m):   \u001b[36m 15.8 ms\u001b[0m … \u001b[35m 34.2 ms\u001b[0m    \u001b[2m161 runs\u001b[0m\n",
      " \n",
      "  \u001b[33mWarning\u001b[0m: Statistical outliers were detected. Consider re-running this benchmark on a quiet system without any interferences from other programs. It might help to use the '--warmup' or '--prepare' options.\n",
      " \n",
      "\u001b[2K\u001b[1mBenchmark \u001b[0m\u001b[1m1\u001b[0m: python ./0_plain/plain.py aaa░░░░░░░░ ETA 00:00:00 \n",
      "\u001b[2K  Time (\u001b[1;32mmean\u001b[0m ± \u001b[32mσ\u001b[0m):     \u001b[1;32m245.6 ms\u001b[0m ± \u001b[32m  1.4 ms\u001b[0m    [User: \u001b[34m236.2 ms\u001b[0m, System: \u001b[34m7.9 ms\u001b[0m]\n",
      "  Range (\u001b[36mmin\u001b[0m … \u001b[35mmax\u001b[0m):   \u001b[36m243.8 ms\u001b[0m … \u001b[35m247.9 ms\u001b[0m    \u001b[2m12 runs\u001b[0m\n",
      " \n"
     ]
    }
   ],
   "source": [
    "!hyperfine \"python ./0_plain/itertools.py aaa\"\n",
    "!hyperfine \"python ./0_plain/lib.py aaa\"\n",
    "!hyperfine \"python ./0_plain/plain.py aaa\""
   ]
  },
  {
   "cell_type": "code",
   "execution_count": 26,
   "metadata": {},
   "outputs": [
    {
     "name": "stdout",
     "output_type": "stream",
     "text": [
      "\u001b[2K\u001b[1mBenchmark \u001b[0m\u001b[1m1\u001b[0m: python ./1_multiprocessing/imap_unordered.py aaa00 \n",
      "\u001b[2K  Time (\u001b[1;32mmean\u001b[0m ± \u001b[32mσ\u001b[0m):     \u001b[1;32m180.4 ms\u001b[0m ± \u001b[32m 19.0 ms\u001b[0m    [User: \u001b[34m546.4 ms\u001b[0m, System: \u001b[34m265.5 ms\u001b[0m]\n",
      "  Range (\u001b[36mmin\u001b[0m … \u001b[35mmax\u001b[0m):   \u001b[36m149.8 ms\u001b[0m … \u001b[35m218.8 ms\u001b[0m    \u001b[2m18 runs\u001b[0m\n",
      " \n",
      "\u001b[2K\u001b[1mBenchmark \u001b[0m\u001b[1m1\u001b[0m: python ./1_multiprocessing/imap.py aaaETA 00:00:00 \n",
      "\u001b[2K  Time (\u001b[1;32mmean\u001b[0m ± \u001b[32mσ\u001b[0m):     \u001b[1;32m179.3 ms\u001b[0m ± \u001b[32m 12.5 ms\u001b[0m    [User: \u001b[34m544.3 ms\u001b[0m, System: \u001b[34m265.6 ms\u001b[0m]\n",
      "  Range (\u001b[36mmin\u001b[0m … \u001b[35mmax\u001b[0m):   \u001b[36m162.4 ms\u001b[0m … \u001b[35m200.5 ms\u001b[0m    \u001b[2m15 runs\u001b[0m\n",
      " \n",
      "\u001b[2K\u001b[1mBenchmark \u001b[0m\u001b[1m1\u001b[0m: python ./1_multiprocessing/map_async.py aaa0:00:00 \n",
      "\u001b[2K  Time (\u001b[1;32mmean\u001b[0m ± \u001b[32mσ\u001b[0m):     \u001b[1;32m169.1 ms\u001b[0m ± \u001b[32m  5.9 ms\u001b[0m    [User: \u001b[34m748.3 ms\u001b[0m, System: \u001b[34m169.9 ms\u001b[0m]\n",
      "  Range (\u001b[36mmin\u001b[0m … \u001b[35mmax\u001b[0m):   \u001b[36m161.2 ms\u001b[0m … \u001b[35m189.6 ms\u001b[0m    \u001b[2m17 runs\u001b[0m\n",
      " \n",
      "\u001b[2K\u001b[1mBenchmark \u001b[0m\u001b[1m1\u001b[0m: python ./1_multiprocessing/map.py aaa ETA 00:00:00 \n",
      "\u001b[2K  Time (\u001b[1;32mmean\u001b[0m ± \u001b[32mσ\u001b[0m):     \u001b[1;32m172.0 ms\u001b[0m ± \u001b[32m 11.6 ms\u001b[0m    [User: \u001b[34m752.1 ms\u001b[0m, System: \u001b[34m174.1 ms\u001b[0m]\n",
      "  Range (\u001b[36mmin\u001b[0m … \u001b[35mmax\u001b[0m):   \u001b[36m162.1 ms\u001b[0m … \u001b[35m211.6 ms\u001b[0m    \u001b[2m17 runs\u001b[0m\n",
      " \n",
      "  \u001b[33mWarning\u001b[0m: Statistical outliers were detected. Consider re-running this benchmark on a quiet system without any interferences from other programs. It might help to use the '--warmup' or '--prepare' options.\n",
      " \n"
     ]
    }
   ],
   "source": [
    "!hyperfine \"python ./1_multiprocessing/imap_unordered.py aaa\"\n",
    "!hyperfine \"python ./1_multiprocessing/imap.py aaa\"\n",
    "!hyperfine \"python ./1_multiprocessing/map_async.py aaa\"\n",
    "!hyperfine \"python ./1_multiprocessing/map.py aaa\""
   ]
  },
  {
   "cell_type": "code",
   "execution_count": null,
   "metadata": {},
   "outputs": [],
   "source": []
  }
 ],
 "metadata": {
  "kernelspec": {
   "display_name": ".venv",
   "language": "python",
   "name": "python3"
  },
  "language_info": {
   "codemirror_mode": {
    "name": "ipython",
    "version": 3
   },
   "file_extension": ".py",
   "mimetype": "text/x-python",
   "name": "python",
   "nbconvert_exporter": "python",
   "pygments_lexer": "ipython3",
   "version": "3.11.9"
  }
 },
 "nbformat": 4,
 "nbformat_minor": 2
}
