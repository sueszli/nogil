{
 "cells": [
  {
   "cell_type": "code",
   "execution_count": 2,
   "metadata": {},
   "outputs": [
    {
     "name": "stdout",
     "output_type": "stream",
     "text": [
      "\u001b[33mWarning:\u001b[0m hyperfine 1.19.0 is already installed and up-to-date.\n",
      "To reinstall 1.19.0, run:\n",
      "  brew reinstall hyperfine\n"
     ]
    }
   ],
   "source": [
    "!brew install hyperfine"
   ]
  },
  {
   "cell_type": "code",
   "execution_count": 17,
   "metadata": {},
   "outputs": [
    {
     "name": "stdout",
     "output_type": "stream",
     "text": [
      "\u001b[2K\u001b[1mBenchmark \u001b[0m\u001b[1m1\u001b[0m: python ./0_plain/itertools.py aaa███░ ETA 00:00:00 \n",
      "\u001b[2K  Time (\u001b[1;32mmean\u001b[0m ± \u001b[32mσ\u001b[0m):     \u001b[1;32m215.6 ms\u001b[0m ± \u001b[32m  3.1 ms\u001b[0m    [User: \u001b[34m209.1 ms\u001b[0m, System: \u001b[34m5.2 ms\u001b[0m]\n",
      "  Range (\u001b[36mmin\u001b[0m … \u001b[35mmax\u001b[0m):   \u001b[36m213.0 ms\u001b[0m … \u001b[35m223.4 ms\u001b[0m    \u001b[2m13 runs\u001b[0m\n",
      " \n",
      "\u001b[2K\u001b[1mBenchmark \u001b[0m\u001b[1m1\u001b[0m: python ./0_plain/lib.py aaa░░░░░░░░░░ ETA 00:00:00 \n",
      "\u001b[2K  Time (\u001b[1;32mmean\u001b[0m ± \u001b[32mσ\u001b[0m):     \u001b[1;32m 16.9 ms\u001b[0m ± \u001b[32m  1.4 ms\u001b[0m    [User: \u001b[34m13.4 ms\u001b[0m, System: \u001b[34m2.8 ms\u001b[0m]\n",
      "  Range (\u001b[36mmin\u001b[0m … \u001b[35mmax\u001b[0m):   \u001b[36m 15.8 ms\u001b[0m … \u001b[35m 33.6 ms\u001b[0m    \u001b[2m162 runs\u001b[0m\n",
      " \n",
      "  \u001b[33mWarning\u001b[0m: Statistical outliers were detected. Consider re-running this benchmark on a quiet system without any interferences from other programs. It might help to use the '--warmup' or '--prepare' options.\n",
      " \n",
      "\u001b[2K\u001b[1mBenchmark \u001b[0m\u001b[1m1\u001b[0m: python ./0_plain/plain.py aaa░░░░░░░░ ETA 00:00:00 \n",
      "\u001b[2K  Time (\u001b[1;32mmean\u001b[0m ± \u001b[32mσ\u001b[0m):     \u001b[1;32m238.1 ms\u001b[0m ± \u001b[32m  0.7 ms\u001b[0m    [User: \u001b[34m230.0 ms\u001b[0m, System: \u001b[34m6.7 ms\u001b[0m]\n",
      "  Range (\u001b[36mmin\u001b[0m … \u001b[35mmax\u001b[0m):   \u001b[36m237.3 ms\u001b[0m … \u001b[35m239.7 ms\u001b[0m    \u001b[2m12 runs\u001b[0m\n",
      " \n"
     ]
    }
   ],
   "source": [
    "!hyperfine \"python ./0_plain/itertools.py aaa\"\n",
    "!hyperfine \"python ./0_plain/lib.py aaa\"\n",
    "!hyperfine \"python ./0_plain/plain.py aaa\""
   ]
  },
  {
   "cell_type": "code",
   "execution_count": null,
   "metadata": {},
   "outputs": [],
   "source": []
  }
 ],
 "metadata": {
  "kernelspec": {
   "display_name": ".venv",
   "language": "python",
   "name": "python3"
  },
  "language_info": {
   "codemirror_mode": {
    "name": "ipython",
    "version": 3
   },
   "file_extension": ".py",
   "mimetype": "text/x-python",
   "name": "python",
   "nbconvert_exporter": "python",
   "pygments_lexer": "ipython3",
   "version": "3.11.9"
  }
 },
 "nbformat": 4,
 "nbformat_minor": 2
}
