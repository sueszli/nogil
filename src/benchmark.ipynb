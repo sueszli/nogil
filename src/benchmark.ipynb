{
 "cells": [
  {
   "cell_type": "code",
   "execution_count": 12,
   "metadata": {},
   "outputs": [
    {
     "name": "stdout",
     "output_type": "stream",
     "text": [
      "Software:\n",
      "\n",
      "    System Software Overview:\n",
      "\n",
      "      System Version: macOS 14.6.1 (23G93)\n",
      "      Kernel Version: Darwin 23.6.0\n",
      "      Boot Volume: Macintosh HD\n",
      "      Boot Mode: Normal\n",
      "      Computer Name: Yahya’s MacBook Pro\n",
      "      User Name: Yahya Jabary (sueszli)\n",
      "      Secure Virtual Memory: Enabled\n",
      "      System Integrity Protection: Enabled\n",
      "      Time since boot: 79 days, 1 hour, 36 minutes\n",
      "\n",
      "Hardware:\n",
      "\n",
      "    Hardware Overview:\n",
      "\n",
      "      Model Name: MacBook Pro\n",
      "      Model Identifier: Mac14,10\n",
      "      Model Number: Z174001ABD/A\n",
      "      Chip: Apple M2 Pro\n",
      "      Total Number of Cores: 12 (8 performance and 4 efficiency)\n",
      "      Memory: 16 GB\n",
      "      System Firmware Version: 10151.140.19\n",
      "      OS Loader Version: 10151.140.19\n",
      "      Serial Number (system): VCYQD0HH0G\n",
      "      Hardware UUID: BEA4D09D-6651-54E1-A3F7-7FB78A7BF1AB\n",
      "      Provisioning UDID: 00006020-001A284901E8C01E\n",
      "      Activation Lock Status: Disabled\n",
      "\n",
      "Architecture:                         x86_64\n",
      "CPU op-mode(s):                       32-bit\n",
      "Byte Order:                           Little Endian\n",
      "CPU(s):                               12\n",
      "On-line CPU(s) list:                  0-11\n",
      "Thread(s) per core:                   1\n",
      "Core(s) per socket:                   12\n",
      "Socket(s):                            1\n",
      "Vendor ID:                            0x61\n",
      "Model:                                0\n",
      "Stepping:                             0x0\n",
      "BogoMIPS:                             48.00\n",
      "Vulnerability Gather data sampling:   Not affected\n",
      "Vulnerability Itlb multihit:          Not affected\n",
      "Vulnerability L1tf:                   Not affected\n",
      "Vulnerability Mds:                    Not affected\n",
      "Vulnerability Meltdown:               Not affected\n",
      "Vulnerability Mmio stale data:        Not affected\n",
      "Vulnerability Reg file data sampling: Not affected\n",
      "Vulnerability Retbleed:               Not affected\n",
      "Vulnerability Spec rstack overflow:   Not affected\n",
      "Vulnerability Spec store bypass:      Mitigation; Speculative Store Bypass disab\n",
      "                                      led via prctl\n",
      "Vulnerability Spectre v1:             Mitigation; __user pointer sanitization\n",
      "Vulnerability Spectre v2:             Not affected\n",
      "Vulnerability Srbds:                  Not affected\n",
      "Vulnerability Tsx async abort:        Not affected\n",
      "Flags:                                fp asimd evtstrm aes pmull sha1 sha2 crc32\n",
      "                                       atomics fphp asimdhp cpuid asimdrdm jscvt\n",
      "                                       fcma lrcpc dcpop sha3 asimddp sha512 asim\n",
      "                                      dfhm dit uscat ilrcpc flagm ssbs sb paca p\n",
      "                                      acg dcpodp flagm2 frint\n",
      "OCI runtime exec failed: exec failed: unable to start container process: exec: \"free\": executable file not found in $PATH: unknown\n",
      "Filesystem            Size  Used Avail Use% Mounted on\n",
      "overlay                59G  3.1G   53G   6% /\n",
      "tmpfs                  64M     0   64M   0% /dev\n",
      "shm                    64M     0   64M   0% /dev/shm\n",
      "/run/host_mark/Users  461G  165G  296G  36% /workspace\n",
      "/dev/vda1              59G  3.1G   53G   6% /etc/hosts\n",
      "tmpfs                 3.9G     0  3.9G   0% /proc/scsi\n",
      "tmpfs                 3.9G     0  3.9G   0% /sys/firmware\n"
     ]
    }
   ],
   "source": [
    "!system_profiler SPSoftwareDataType SPHardwareDataType\n",
    "\n",
    "!docker compose exec main lscpu\n",
    "!docker compose exec main free -m\n",
    "!docker compose exec main df -h"
   ]
  },
  {
   "cell_type": "code",
   "execution_count": 16,
   "metadata": {},
   "outputs": [
    {
     "name": "stdout",
     "output_type": "stream",
     "text": [
      "\u001b[2K\u001b[1mBenchmark \u001b[0m\u001b[1m1\u001b[0m: python /workspace/src/0_plain/itertools.py aaa0:00 \n",
      "\u001b[2K  Time (\u001b[1;32mmean\u001b[0m ± \u001b[32mσ\u001b[0m):     \u001b[1;32m566.5 ms\u001b[0m ± \u001b[32m 12.2 ms\u001b[0m    [User: \u001b[34m557.3 ms\u001b[0m, System: \u001b[34m8.8 ms\u001b[0m]\n",
      "  Range (\u001b[36mmin\u001b[0m … \u001b[35mmax\u001b[0m):   \u001b[36m556.8 ms\u001b[0m … \u001b[35m592.0 ms\u001b[0m    \u001b[2m10 runs\u001b[0m\n",
      " \n",
      "\u001b[2K\u001b[1mBenchmark \u001b[0m\u001b[1m1\u001b[0m: python /workspace/src/0_plain/lib.py aaaA 00:00:00 \n",
      "\u001b[2K  Time (\u001b[1;32mmean\u001b[0m ± \u001b[32mσ\u001b[0m):     \u001b[1;32m109.2 ms\u001b[0m ± \u001b[32m  9.7 ms\u001b[0m    [User: \u001b[34m103.2 ms\u001b[0m, System: \u001b[34m5.7 ms\u001b[0m]\n",
      "  Range (\u001b[36mmin\u001b[0m … \u001b[35mmax\u001b[0m):   \u001b[36m100.7 ms\u001b[0m … \u001b[35m143.7 ms\u001b[0m    \u001b[2m25 runs\u001b[0m\n",
      " \n",
      "  \u001b[33mWarning\u001b[0m: Statistical outliers were detected. Consider re-running this benchmark on a quiet system without any interferences from other programs. It might help to use the '--warmup' or '--prepare' options.\n",
      " \n",
      "\u001b[2K\u001b[1mBenchmark \u001b[0m\u001b[1m1\u001b[0m: python /workspace/src/0_plain/plain.py aaa00:00:00 \n",
      "\u001b[2K  Time (\u001b[1;32mmean\u001b[0m ± \u001b[32mσ\u001b[0m):     \u001b[1;32m660.2 ms\u001b[0m ± \u001b[32m 15.9 ms\u001b[0m    [User: \u001b[34m652.5 ms\u001b[0m, System: \u001b[34m7.3 ms\u001b[0m]\n",
      "  Range (\u001b[36mmin\u001b[0m … \u001b[35mmax\u001b[0m):   \u001b[36m641.7 ms\u001b[0m … \u001b[35m690.1 ms\u001b[0m    \u001b[2m10 runs\u001b[0m\n",
      " \n"
     ]
    }
   ],
   "source": [
    "!docker compose exec main /root/.cargo/bin/hyperfine \"python /workspace/src/0_plain/itertools.py aaa\"\n",
    "!docker compose exec main /root/.cargo/bin/hyperfine \"python /workspace/src/0_plain/lib.py aaa\"\n",
    "!docker compose exec main /root/.cargo/bin/hyperfine \"python /workspace/src/0_plain/plain.py aaa\""
   ]
  },
  {
   "cell_type": "code",
   "execution_count": 14,
   "metadata": {},
   "outputs": [
    {
     "name": "stdout",
     "output_type": "stream",
     "text": [
      "\u001b[2K\u001b[1mBenchmark \u001b[0m\u001b[1m1\u001b[0m: python /workspace/src/1_multiprocessing/imap_unordered.py aaa\n",
      "\u001b[2K  Time (\u001b[1;32mmean\u001b[0m ± \u001b[32mσ\u001b[0m):     \u001b[1;32m240.8 ms\u001b[0m ± \u001b[32m 17.5 ms\u001b[0m    [User: \u001b[34m505.5 ms\u001b[0m, System: \u001b[34m153.6 ms\u001b[0m]\n",
      "  Range (\u001b[36mmin\u001b[0m … \u001b[35mmax\u001b[0m):   \u001b[36m221.7 ms\u001b[0m … \u001b[35m275.7 ms\u001b[0m    \u001b[2m10 runs\u001b[0m\n",
      " \n",
      "\u001b[2K ⠦ Measuring shell spawning time  ████████████████████████████░░░░ ETA 00:00:00 \u001b[1mBenchmark \u001b[0m\u001b[1m1\u001b[0m: python /workspace/src/1_multiprocessing/imap.py aaa\n",
      "\u001b[2K  Time (\u001b[1;32mmean\u001b[0m ± \u001b[32mσ\u001b[0m):     \u001b[1;32m227.1 ms\u001b[0m ± \u001b[32m 11.7 ms\u001b[0m    [User: \u001b[34m484.7 ms\u001b[0m, System: \u001b[34m142.0 ms\u001b[0m]\n",
      "  Range (\u001b[36mmin\u001b[0m … \u001b[35mmax\u001b[0m):   \u001b[36m213.4 ms\u001b[0m … \u001b[35m255.7 ms\u001b[0m    \u001b[2m12 runs\u001b[0m\n",
      " \n",
      "\u001b[2K\u001b[1mBenchmark \u001b[0m\u001b[1m1\u001b[0m: python /workspace/src/1_multiprocessing/map_async.py aaa\n",
      "\u001b[2K  Time (\u001b[1;32mmean\u001b[0m ± \u001b[32mσ\u001b[0m):     \u001b[1;32m460.6 ms\u001b[0m ± \u001b[32m 14.9 ms\u001b[0m    [User: \u001b[34m967.9 ms\u001b[0m, System: \u001b[34m104.6 ms\u001b[0m]\n",
      "  Range (\u001b[36mmin\u001b[0m … \u001b[35mmax\u001b[0m):   \u001b[36m436.8 ms\u001b[0m … \u001b[35m485.8 ms\u001b[0m    \u001b[2m10 runs\u001b[0m\n",
      " \n",
      "\u001b[2K\u001b[1mBenchmark \u001b[0m\u001b[1m1\u001b[0m: python /workspace/src/1_multiprocessing/map.py aaa \n",
      "\u001b[2K  Time (\u001b[1;32mmean\u001b[0m ± \u001b[32mσ\u001b[0m):     \u001b[1;32m638.3 ms\u001b[0m ± \u001b[32m412.1 ms\u001b[0m    [User: \u001b[34m1395.2 ms\u001b[0m, System: \u001b[34m158.3 ms\u001b[0m]\n",
      "  Range (\u001b[36mmin\u001b[0m … \u001b[35mmax\u001b[0m):   \u001b[36m439.3 ms\u001b[0m … \u001b[35m1713.3 ms\u001b[0m    \u001b[2m10 runs\u001b[0m\n",
      " \n",
      "  \u001b[33mWarning\u001b[0m: Statistical outliers were detected. Consider re-running this benchmark on a quiet system without any interferences from other programs. It might help to use the '--warmup' or '--prepare' options.\n",
      " \n"
     ]
    }
   ],
   "source": [
    "!docker compose exec main /root/.cargo/bin/hyperfine \"python /workspace/src/1_multiprocessing/imap_unordered.py aaa\"\n",
    "!docker compose exec main /root/.cargo/bin/hyperfine \"python /workspace/src/1_multiprocessing/imap.py aaa\"\n",
    "!docker compose exec main /root/.cargo/bin/hyperfine \"python /workspace/src/1_multiprocessing/map_async.py aaa\"\n",
    "!docker compose exec main /root/.cargo/bin/hyperfine \"python /workspace/src/1_multiprocessing/map.py aaa\""
   ]
  },
  {
   "cell_type": "code",
   "execution_count": 15,
   "metadata": {},
   "outputs": [
    {
     "name": "stdout",
     "output_type": "stream",
     "text": [
      "\u001b[2K\u001b[1mBenchmark \u001b[0m\u001b[1m1\u001b[0m: PYTHON_GIL=1 python /workspace/src/2_multithreading/executor.py aaa\n",
      "\u001b[2K  Time (\u001b[1;32mmean\u001b[0m ± \u001b[32mσ\u001b[0m):     \u001b[1;32m385.2 ms\u001b[0m ± \u001b[32m 17.0 ms\u001b[0m    [User: \u001b[34m374.4 ms\u001b[0m, System: \u001b[34m10.2 ms\u001b[0m]\n",
      "  Range (\u001b[36mmin\u001b[0m … \u001b[35mmax\u001b[0m):   \u001b[36m362.1 ms\u001b[0m … \u001b[35m425.4 ms\u001b[0m    \u001b[2m10 runs\u001b[0m\n",
      " \n",
      "\u001b[2K\u001b[1mBenchmark \u001b[0m\u001b[1m1\u001b[0m: PYTHON_GIL=0 python /workspace/src/2_multithreading/executor.py aaa\n",
      "\u001b[2K  Time (\u001b[1;32mmean\u001b[0m ± \u001b[32mσ\u001b[0m):     \u001b[1;32m201.3 ms\u001b[0m ± \u001b[32m  9.5 ms\u001b[0m    [User: \u001b[34m455.0 ms\u001b[0m, System: \u001b[34m10.3 ms\u001b[0m]\n",
      "  Range (\u001b[36mmin\u001b[0m … \u001b[35mmax\u001b[0m):   \u001b[36m193.2 ms\u001b[0m … \u001b[35m227.3 ms\u001b[0m    \u001b[2m13 runs\u001b[0m\n",
      " \n",
      "\u001b[2K\u001b[1mBenchmark \u001b[0m\u001b[1m1\u001b[0m: PYTHON_GIL=1 python /workspace/src/2_multithreading/workers.py aaa\n",
      "\u001b[2K  Time (\u001b[1;32mmean\u001b[0m ± \u001b[32mσ\u001b[0m):     \u001b[1;32m129.0 ms\u001b[0m ± \u001b[32m  4.6 ms\u001b[0m    [User: \u001b[34m116.5 ms\u001b[0m, System: \u001b[34m8.3 ms\u001b[0m]\n",
      "  Range (\u001b[36mmin\u001b[0m … \u001b[35mmax\u001b[0m):   \u001b[36m120.8 ms\u001b[0m … \u001b[35m136.3 ms\u001b[0m    \u001b[2m23 runs\u001b[0m\n",
      " \n",
      "\u001b[2K\u001b[1mBenchmark \u001b[0m\u001b[1m1\u001b[0m: PYTHON_GIL=0 python /workspace/src/2_multithreading/workers.py aaa\n",
      "\u001b[2K  Time (\u001b[1;32mmean\u001b[0m ± \u001b[32mσ\u001b[0m):     \u001b[1;32m139.2 ms\u001b[0m ± \u001b[32m  4.8 ms\u001b[0m    [User: \u001b[34m127.2 ms\u001b[0m, System: \u001b[34m14.5 ms\u001b[0m]\n",
      "  Range (\u001b[36mmin\u001b[0m … \u001b[35mmax\u001b[0m):   \u001b[36m130.9 ms\u001b[0m … \u001b[35m149.1 ms\u001b[0m    \u001b[2m19 runs\u001b[0m\n",
      " \n"
     ]
    }
   ],
   "source": [
    "!docker compose exec main /root/.cargo/bin/hyperfine \"PYTHON_GIL=1 python /workspace/src/2_multithreading/executor.py aaa\"\n",
    "!docker compose exec main /root/.cargo/bin/hyperfine \"PYTHON_GIL=0 python /workspace/src/2_multithreading/executor.py aaa\"\n",
    "\n",
    "!docker compose exec main /root/.cargo/bin/hyperfine \"PYTHON_GIL=1 python /workspace/src/2_multithreading/workers.py aaa\"\n",
    "!docker compose exec main /root/.cargo/bin/hyperfine \"PYTHON_GIL=0 python /workspace/src/2_multithreading/workers.py aaa\""
   ]
  },
  {
   "cell_type": "code",
   "execution_count": null,
   "metadata": {},
   "outputs": [],
   "source": []
  },
  {
   "cell_type": "code",
   "execution_count": null,
   "metadata": {},
   "outputs": [],
   "source": []
  },
  {
   "cell_type": "code",
   "execution_count": null,
   "metadata": {},
   "outputs": [],
   "source": []
  }
 ],
 "metadata": {
  "kernelspec": {
   "display_name": ".venv",
   "language": "python",
   "name": "python3"
  },
  "language_info": {
   "codemirror_mode": {
    "name": "ipython",
    "version": 3
   },
   "file_extension": ".py",
   "mimetype": "text/x-python",
   "name": "python",
   "nbconvert_exporter": "python",
   "pygments_lexer": "ipython3",
   "version": "3.13.0"
  }
 },
 "nbformat": 4,
 "nbformat_minor": 2
}
