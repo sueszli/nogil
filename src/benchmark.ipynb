{
 "cells": [
  {
   "cell_type": "code",
   "execution_count": 15,
   "metadata": {},
   "outputs": [
    {
     "name": "stdout",
     "output_type": "stream",
     "text": [
      "Software:\n",
      "\n",
      "    System Software Overview:\n",
      "\n",
      "      System Version: macOS 14.6.1 (23G93)\n",
      "      Kernel Version: Darwin 23.6.0\n",
      "      Boot Volume: Macintosh HD\n",
      "      Boot Mode: Normal\n",
      "      Computer Name: Yahya’s MacBook Pro\n",
      "      User Name: Yahya Jabary (sueszli)\n",
      "      Secure Virtual Memory: Enabled\n",
      "      System Integrity Protection: Enabled\n",
      "      Time since boot: 79 days, 22 hours, 26 minutes\n",
      "\n",
      "Hardware:\n",
      "\n",
      "    Hardware Overview:\n",
      "\n",
      "      Model Name: MacBook Pro\n",
      "      Model Identifier: Mac14,10\n",
      "      Model Number: Z174001ABD/A\n",
      "      Chip: Apple M2 Pro\n",
      "      Total Number of Cores: 12 (8 performance and 4 efficiency)\n",
      "      Memory: 16 GB\n",
      "      System Firmware Version: 10151.140.19\n",
      "      OS Loader Version: 10151.140.19\n",
      "      Serial Number (system): VCYQD0HH0G\n",
      "      Hardware UUID: BEA4D09D-6651-54E1-A3F7-7FB78A7BF1AB\n",
      "      Provisioning UDID: 00006020-001A284901E8C01E\n",
      "      Activation Lock Status: Disabled\n",
      "\n",
      "Architecture:                         x86_64\n",
      "CPU op-mode(s):                       32-bit\n",
      "Byte Order:                           Little Endian\n",
      "CPU(s):                               12\n",
      "On-line CPU(s) list:                  0-11\n",
      "Thread(s) per core:                   1\n",
      "Core(s) per socket:                   12\n",
      "Socket(s):                            1\n",
      "Vendor ID:                            0x61\n",
      "Model:                                0\n",
      "Stepping:                             0x0\n",
      "BogoMIPS:                             48.00\n",
      "Vulnerability Gather data sampling:   Not affected\n",
      "Vulnerability Itlb multihit:          Not affected\n",
      "Vulnerability L1tf:                   Not affected\n",
      "Vulnerability Mds:                    Not affected\n",
      "Vulnerability Meltdown:               Not affected\n",
      "Vulnerability Mmio stale data:        Not affected\n",
      "Vulnerability Reg file data sampling: Not affected\n",
      "Vulnerability Retbleed:               Not affected\n",
      "Vulnerability Spec rstack overflow:   Not affected\n",
      "Vulnerability Spec store bypass:      Mitigation; Speculative Store Bypass disab\n",
      "                                      led via prctl\n",
      "Vulnerability Spectre v1:             Mitigation; __user pointer sanitization\n",
      "Vulnerability Spectre v2:             Not affected\n",
      "Vulnerability Srbds:                  Not affected\n",
      "Vulnerability Tsx async abort:        Not affected\n",
      "Flags:                                fp asimd evtstrm aes pmull sha1 sha2 crc32\n",
      "                                       atomics fphp asimdhp cpuid asimdrdm jscvt\n",
      "                                       fcma lrcpc dcpop sha3 asimddp sha512 asim\n",
      "                                      dfhm dit uscat ilrcpc flagm ssbs sb paca p\n",
      "                                      acg dcpodp flagm2 frint\n",
      "OCI runtime exec failed: exec failed: unable to start container process: exec: \"free\": executable file not found in $PATH: unknown\n",
      "Filesystem            Size  Used Avail Use% Mounted on\n",
      "overlay                59G  3.1G   53G   6% /\n",
      "tmpfs                  64M     0   64M   0% /dev\n",
      "shm                    64M     0   64M   0% /dev/shm\n",
      "/run/host_mark/Users  461G  166G  296G  36% /workspace\n",
      "/dev/vda1              59G  3.1G   53G   6% /etc/hosts\n",
      "tmpfs                 3.9G     0  3.9G   0% /proc/scsi\n",
      "tmpfs                 3.9G     0  3.9G   0% /sys/firmware\n"
     ]
    }
   ],
   "source": [
    "!system_profiler SPSoftwareDataType SPHardwareDataType\n",
    "\n",
    "!docker compose exec main lscpu\n",
    "!docker compose exec main free -m\n",
    "!docker compose exec main df -h"
   ]
  },
  {
   "cell_type": "code",
   "execution_count": 16,
   "metadata": {},
   "outputs": [
    {
     "name": "stdout",
     "output_type": "stream",
     "text": [
      "7e240de74fb1ed08fa08d38063f6a6a91462a815\n"
     ]
    }
   ],
   "source": [
    "import hashlib\n",
    "print(hashlib.sha1(\"aaa\".encode()).hexdigest())"
   ]
  },
  {
   "cell_type": "code",
   "execution_count": 18,
   "metadata": {},
   "outputs": [
    {
     "name": "stdout",
     "output_type": "stream",
     "text": [
      "\u001b[2K ⠦ Measuring shell spawning time  ████████████████████████████░░░░ ETA 00:00:00 \u001b[1mBenchmark \u001b[0m\u001b[1m1\u001b[0m: python /workspace/src/0_plain/itertools.py 7e240de74fb1ed08fa08d38063f6a6a91462a815\n",
      "\u001b[2K  Time (\u001b[1;32mmean\u001b[0m ± \u001b[32mσ\u001b[0m):     \u001b[1;32m554.4 ms\u001b[0m ± \u001b[32m 10.1 ms\u001b[0m    [User: \u001b[34m549.0 ms\u001b[0m, System: \u001b[34m5.0 ms\u001b[0m]\n",
      "  Range (\u001b[36mmin\u001b[0m … \u001b[35mmax\u001b[0m):   \u001b[36m546.2 ms\u001b[0m … \u001b[35m582.1 ms\u001b[0m    \u001b[2m10 runs\u001b[0m\n",
      " \n",
      "\u001b[2K\u001b[1mBenchmark \u001b[0m\u001b[1m1\u001b[0m: python /workspace/src/0_plain/lib.py 7e240de74fb1ed08fa08d38063f6a6a91462a815\n",
      "\u001b[2K  Time (\u001b[1;32mmean\u001b[0m ± \u001b[32mσ\u001b[0m):     \u001b[1;32m100.0 ms\u001b[0m ± \u001b[32m  1.9 ms\u001b[0m    [User: \u001b[34m94.3 ms\u001b[0m, System: \u001b[34m5.6 ms\u001b[0m]\n",
      "  Range (\u001b[36mmin\u001b[0m … \u001b[35mmax\u001b[0m):   \u001b[36m 97.2 ms\u001b[0m … \u001b[35m104.6 ms\u001b[0m    \u001b[2m28 runs\u001b[0m\n",
      " \n",
      "\u001b[2K\u001b[1mBenchmark \u001b[0m\u001b[1m1\u001b[0m: python /workspace/src/0_plain/plain.py 7e240de74fb1ed08fa08d38063f6a6a91462a815\n",
      "\u001b[2K  Time (\u001b[1;32mmean\u001b[0m ± \u001b[32mσ\u001b[0m):     \u001b[1;32m572.4 ms\u001b[0m ± \u001b[32m 10.8 ms\u001b[0m    [User: \u001b[34m567.1 ms\u001b[0m, System: \u001b[34m5.1 ms\u001b[0m]\n",
      "  Range (\u001b[36mmin\u001b[0m … \u001b[35mmax\u001b[0m):   \u001b[36m560.7 ms\u001b[0m … \u001b[35m587.0 ms\u001b[0m    \u001b[2m10 runs\u001b[0m\n",
      " \n"
     ]
    }
   ],
   "source": [
    "!docker compose exec main /root/.cargo/bin/hyperfine \"python /workspace/src/0_plain/itertools.py 7e240de74fb1ed08fa08d38063f6a6a91462a815\"\n",
    "!docker compose exec main /root/.cargo/bin/hyperfine \"python /workspace/src/0_plain/lib.py 7e240de74fb1ed08fa08d38063f6a6a91462a815\"\n",
    "!docker compose exec main /root/.cargo/bin/hyperfine \"python /workspace/src/0_plain/plain.py 7e240de74fb1ed08fa08d38063f6a6a91462a815\""
   ]
  },
  {
   "cell_type": "code",
   "execution_count": 19,
   "metadata": {},
   "outputs": [
    {
     "name": "stdout",
     "output_type": "stream",
     "text": [
      "\u001b[2K\u001b[1mBenchmark \u001b[0m\u001b[1m1\u001b[0m: python /workspace/src/1_multiprocessing/imap_unordered.py 7e240de74fb1ed08fa08d38063f6a6a91462a815\n",
      "\u001b[2K  Time (\u001b[1;32mmean\u001b[0m ± \u001b[32mσ\u001b[0m):     \u001b[1;32m251.4 ms\u001b[0m ± \u001b[32m 18.3 ms\u001b[0m    [User: \u001b[34m602.1 ms\u001b[0m, System: \u001b[34m190.2 ms\u001b[0m]\n",
      "  Range (\u001b[36mmin\u001b[0m … \u001b[35mmax\u001b[0m):   \u001b[36m232.5 ms\u001b[0m … \u001b[35m295.3 ms\u001b[0m    \u001b[2m11 runs\u001b[0m\n",
      " \n",
      "\u001b[2K\u001b[1mBenchmark \u001b[0m\u001b[1m1\u001b[0m: python /workspace/src/1_multiprocessing/imap.py 7e240de74fb1ed08fa08d38063f6a6a91462a815\n",
      "\u001b[2K  Time (\u001b[1;32mmean\u001b[0m ± \u001b[32mσ\u001b[0m):     \u001b[1;32m250.5 ms\u001b[0m ± \u001b[32m 11.1 ms\u001b[0m    [User: \u001b[34m592.8 ms\u001b[0m, System: \u001b[34m188.2 ms\u001b[0m]\n",
      "  Range (\u001b[36mmin\u001b[0m … \u001b[35mmax\u001b[0m):   \u001b[36m239.2 ms\u001b[0m … \u001b[35m273.9 ms\u001b[0m    \u001b[2m10 runs\u001b[0m\n",
      " \n",
      "\u001b[2K ⠦ Measuring shell spawning time  ███████████████████████████░░░░░ ETA 00:00:00 \u001b[1mBenchmark \u001b[0m\u001b[1m1\u001b[0m: python /workspace/src/1_multiprocessing/map_async.py 7e240de74fb1ed08fa08d38063f6a6a91462a815\n",
      "\u001b[2K  Time (\u001b[1;32mmean\u001b[0m ± \u001b[32mσ\u001b[0m):     \u001b[1;32m470.0 ms\u001b[0m ± \u001b[32m 27.1 ms\u001b[0m    [User: \u001b[34m1056.4 ms\u001b[0m, System: \u001b[34m129.2 ms\u001b[0m]\n",
      "  Range (\u001b[36mmin\u001b[0m … \u001b[35mmax\u001b[0m):   \u001b[36m441.9 ms\u001b[0m … \u001b[35m530.1 ms\u001b[0m    \u001b[2m10 runs\u001b[0m\n",
      " \n",
      "\u001b[2K\u001b[1mBenchmark \u001b[0m\u001b[1m1\u001b[0m: python /workspace/src/1_multiprocessing/map.py 7e240de74fb1ed08fa08d38063f6a6a91462a815\n",
      "\u001b[2K  Time (\u001b[1;32mmean\u001b[0m ± \u001b[32mσ\u001b[0m):     \u001b[1;32m452.4 ms\u001b[0m ± \u001b[32m 12.1 ms\u001b[0m    [User: \u001b[34m1002.1 ms\u001b[0m, System: \u001b[34m114.2 ms\u001b[0m]\n",
      "  Range (\u001b[36mmin\u001b[0m … \u001b[35mmax\u001b[0m):   \u001b[36m442.3 ms\u001b[0m … \u001b[35m477.5 ms\u001b[0m    \u001b[2m10 runs\u001b[0m\n",
      " \n"
     ]
    }
   ],
   "source": [
    "!docker compose exec main /root/.cargo/bin/hyperfine \"python /workspace/src/1_multiprocessing/imap_unordered.py 7e240de74fb1ed08fa08d38063f6a6a91462a815\"\n",
    "!docker compose exec main /root/.cargo/bin/hyperfine \"python /workspace/src/1_multiprocessing/imap.py 7e240de74fb1ed08fa08d38063f6a6a91462a815\"\n",
    "!docker compose exec main /root/.cargo/bin/hyperfine \"python /workspace/src/1_multiprocessing/map_async.py 7e240de74fb1ed08fa08d38063f6a6a91462a815\"\n",
    "!docker compose exec main /root/.cargo/bin/hyperfine \"python /workspace/src/1_multiprocessing/map.py 7e240de74fb1ed08fa08d38063f6a6a91462a815\""
   ]
  },
  {
   "cell_type": "code",
   "execution_count": 22,
   "metadata": {},
   "outputs": [
    {
     "name": "stdout",
     "output_type": "stream",
     "text": [
      "\u001b[2K\u001b[1mBenchmark \u001b[0m\u001b[1m1\u001b[0m: PYTHON_GIL=1 python /workspace/src/2_multithreading/executor.py 7e240de74fb1ed08fa08d38063f6a6a91462a815\n",
      "\u001b[2K  Time (\u001b[1;32mmean\u001b[0m ± \u001b[32mσ\u001b[0m):     \u001b[1;32m367.6 ms\u001b[0m ± \u001b[32m  2.2 ms\u001b[0m    [User: \u001b[34m357.3 ms\u001b[0m, System: \u001b[34m9.6 ms\u001b[0m]\n",
      "  Range (\u001b[36mmin\u001b[0m … \u001b[35mmax\u001b[0m):   \u001b[36m365.5 ms\u001b[0m … \u001b[35m372.4 ms\u001b[0m    \u001b[2m10 runs\u001b[0m\n",
      " \n",
      "\u001b[2K\u001b[1mBenchmark \u001b[0m\u001b[1m1\u001b[0m: PYTHON_GIL=0 python /workspace/src/2_multithreading/executor.py 7e240de74fb1ed08fa08d38063f6a6a91462a815\n",
      "\u001b[2K  Time (\u001b[1;32mmean\u001b[0m ± \u001b[32mσ\u001b[0m):     \u001b[1;32m201.7 ms\u001b[0m ± \u001b[32m  9.8 ms\u001b[0m    [User: \u001b[34m413.5 ms\u001b[0m, System: \u001b[34m11.0 ms\u001b[0m]\n",
      "  Range (\u001b[36mmin\u001b[0m … \u001b[35mmax\u001b[0m):   \u001b[36m193.3 ms\u001b[0m … \u001b[35m230.4 ms\u001b[0m    \u001b[2m14 runs\u001b[0m\n",
      " \n",
      "\u001b[2K\u001b[1mBenchmark \u001b[0m\u001b[1m1\u001b[0m: PYTHON_GIL=1 python /workspace/src/2_multithreading/workers.py 7e240de74fb1ed08fa08d38063f6a6a91462a815\n",
      "\u001b[2K  Time (\u001b[1;32mmean\u001b[0m ± \u001b[32mσ\u001b[0m):     \u001b[1;32m125.6 ms\u001b[0m ± \u001b[32m  2.0 ms\u001b[0m    [User: \u001b[34m113.1 ms\u001b[0m, System: \u001b[34m8.3 ms\u001b[0m]\n",
      "  Range (\u001b[36mmin\u001b[0m … \u001b[35mmax\u001b[0m):   \u001b[36m122.4 ms\u001b[0m … \u001b[35m129.4 ms\u001b[0m    \u001b[2m22 runs\u001b[0m\n",
      " \n",
      "\u001b[2K\u001b[1mBenchmark \u001b[0m\u001b[1m1\u001b[0m: PYTHON_GIL=0 python /workspace/src/2_multithreading/workers.py 7e240de74fb1ed08fa08d38063f6a6a91462a815\n",
      "\u001b[2K  Time (\u001b[1;32mmean\u001b[0m ± \u001b[32mσ\u001b[0m):     \u001b[1;32m169.5 ms\u001b[0m ± \u001b[32m  4.0 ms\u001b[0m    [User: \u001b[34m186.1 ms\u001b[0m, System: \u001b[34m23.2 ms\u001b[0m]\n",
      "  Range (\u001b[36mmin\u001b[0m … \u001b[35mmax\u001b[0m):   \u001b[36m159.1 ms\u001b[0m … \u001b[35m176.0 ms\u001b[0m    \u001b[2m16 runs\u001b[0m\n",
      " \n"
     ]
    }
   ],
   "source": [
    "!docker compose exec main /root/.cargo/bin/hyperfine \"PYTHON_GIL=1 python /workspace/src/2_multithreading/executor.py 7e240de74fb1ed08fa08d38063f6a6a91462a815\"\n",
    "!docker compose exec main /root/.cargo/bin/hyperfine \"PYTHON_GIL=0 python /workspace/src/2_multithreading/executor.py 7e240de74fb1ed08fa08d38063f6a6a91462a815\"\n",
    "\n",
    "!docker compose exec main /root/.cargo/bin/hyperfine \"PYTHON_GIL=1 python /workspace/src/2_multithreading/workers.py 7e240de74fb1ed08fa08d38063f6a6a91462a815\"\n",
    "!docker compose exec main /root/.cargo/bin/hyperfine \"PYTHON_GIL=0 python /workspace/src/2_multithreading/workers.py 7e240de74fb1ed08fa08d38063f6a6a91462a815\""
   ]
  },
  {
   "cell_type": "code",
   "execution_count": 21,
   "metadata": {},
   "outputs": [
    {
     "name": "stdout",
     "output_type": "stream",
     "text": [
      "\u001b[2K\u001b[1mBenchmark \u001b[0m\u001b[1m1\u001b[0m: python ./src/3_ctypes/invoke_hashcat.py ./src/3_ctypes/libhashcat.so 7e240de74fb1ed08fa08d38063f6a6a91462a815\n",
      "\u001b[2K  Time (\u001b[1;32mmean\u001b[0m ± \u001b[32mσ\u001b[0m):     \u001b[1;32m 92.2 ms\u001b[0m ± \u001b[32m  3.1 ms\u001b[0m    [User: \u001b[34m88.0 ms\u001b[0m, System: \u001b[34m3.9 ms\u001b[0m]\n",
      "  Range (\u001b[36mmin\u001b[0m … \u001b[35mmax\u001b[0m):   \u001b[36m 88.6 ms\u001b[0m … \u001b[35m 99.2 ms\u001b[0m    \u001b[2m27 runs\u001b[0m\n",
      " \n",
      "\u001b[2K\u001b[1mBenchmark \u001b[0m\u001b[1m1\u001b[0m: python ./src/3_ctypes/invoke_hashcat.py ./src/3_ctypes/libhashcat_openmp.so 7e240de74fb1ed08fa08d38063f6a6a91462a815\n",
      "\u001b[2K  Time (\u001b[1;32mmean\u001b[0m ± \u001b[32mσ\u001b[0m):     \u001b[1;32m102.4 ms\u001b[0m ± \u001b[32m  2.3 ms\u001b[0m    [User: \u001b[34m99.0 ms\u001b[0m, System: \u001b[34m7.8 ms\u001b[0m]\n",
      "  Range (\u001b[36mmin\u001b[0m … \u001b[35mmax\u001b[0m):   \u001b[36m 99.9 ms\u001b[0m … \u001b[35m108.8 ms\u001b[0m    \u001b[2m26 runs\u001b[0m\n",
      " \n"
     ]
    }
   ],
   "source": [
    "!docker compose exec main gcc -fopenmp -fPIC -shared -o ./src/3_ctypes/libhashcat.so ./src/3_ctypes/hashcat.c -lcrypto -lssl\n",
    "!docker compose exec main /root/.cargo/bin/hyperfine \"python ./src/3_ctypes/invoke_hashcat.py ./src/3_ctypes/libhashcat.so 7e240de74fb1ed08fa08d38063f6a6a91462a815\"\n",
    "!rm -rf ./src/3_ctypes/libhashcat.so\n",
    "\n",
    "!docker compose exec main gcc -fopenmp -fPIC -shared -o ./src/3_ctypes/libhashcat_openmp.so ./src/3_ctypes/hashcat_openmp.c -lcrypto -lssl\n",
    "!docker compose exec main /root/.cargo/bin/hyperfine \"python ./src/3_ctypes/invoke_hashcat.py ./src/3_ctypes/libhashcat_openmp.so 7e240de74fb1ed08fa08d38063f6a6a91462a815\"\n",
    "!rm -rf ./src/3_ctypes/libhashcat_openmp.so"
   ]
  },
  {
   "cell_type": "code",
   "execution_count": null,
   "metadata": {},
   "outputs": [],
   "source": []
  },
  {
   "cell_type": "code",
   "execution_count": null,
   "metadata": {},
   "outputs": [],
   "source": []
  }
 ],
 "metadata": {
  "kernelspec": {
   "display_name": ".venv",
   "language": "python",
   "name": "python3"
  },
  "language_info": {
   "codemirror_mode": {
    "name": "ipython",
    "version": 3
   },
   "file_extension": ".py",
   "mimetype": "text/x-python",
   "name": "python",
   "nbconvert_exporter": "python",
   "pygments_lexer": "ipython3",
   "version": "3.13.0"
  }
 },
 "nbformat": 4,
 "nbformat_minor": 2
}
