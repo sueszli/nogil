{
 "cells": [
  {
   "cell_type": "code",
   "execution_count": 10,
   "metadata": {
    "vscode": {
     "languageId": "r"
    }
   },
   "outputs": [],
   "source": [
    "deps <- c(\"ISLR\", \"Metrics\", \"ggplot2\", \"tidyr\", \"microbenchmark\", \"dplyr\", \"patchwork\", \"gridExtra\", \"readxl\", \"cvTools\", \"leaps\", \"assertthat\", \"assertr\", \"testthat\", \"caret\", \"leaps\", \"pls\", \"glmnet\", \"ROCit\", \"pROC\", \"cutpointr\", \"ROCR\", \"tidyverse\", \"knitr\")\n",
    "for (p in deps) {\n",
    "    if (!requireNamespace(p, quietly = TRUE)) {\n",
    "        install.packages(p, repos = \"https://cran.rstudio.com\")\n",
    "    }\n",
    "    library(p, character.only = TRUE)\n",
    "}\n",
    "\n",
    "set.seed(42)\n",
    "options(scipen=999)"
   ]
  },
  {
   "cell_type": "code",
   "execution_count": 14,
   "metadata": {
    "vscode": {
     "languageId": "r"
    }
   },
   "outputs": [
    {
     "data": {
      "text/plain": [
       "\n",
       "\n",
       "|type            |command           |      mean|    stddev|    median|      user|    system|       min|       max|\n",
       "|:---------------|:-----------------|---------:|---------:|---------:|---------:|---------:|---------:|---------:|\n",
       "|plain           |itertools.py      | 0.5674692| 0.0119883| 0.5700655| 0.5599028| 0.0074184| 0.5496380| 0.5865690|\n",
       "|plain           |lib.py            | 0.1003698| 0.0026018| 0.0995592| 0.0950988| 0.0051505| 0.0976092| 0.1086287|\n",
       "|plain           |plain.py          | 0.5631182| 0.0085463| 0.5607433| 0.5574100| 0.0056163| 0.5564152| 0.5863659|\n",
       "|multiprocessing |imap_unordered.py | 0.2258019| 0.0085966| 0.2235880| 0.5456730| 0.1661910| 0.2184310| 0.2449692|\n",
       "|multiprocessing |imap.py           | 0.2328316| 0.0065632| 0.2306093| 0.5554529| 0.1625106| 0.2235672| 0.2426373|\n",
       "|multiprocessing |map_async.py      | 0.4528332| 0.0248580| 0.4485649| 1.0100400| 0.1108107| 0.4314743| 0.5167882|\n",
       "|multiprocessing |map.py            | 0.4400746| 0.0043315| 0.4405771| 0.9853628| 0.1084339| 0.4329375| 0.4467715|\n",
       "|multithreading  |GIL=1 executor.py | 0.3696592| 0.0103798| 0.3658508| 0.3597924| 0.0092238| 0.3621005| 0.3968615|\n",
       "|multithreading  |GIL=0 executor.py | 0.2102704| 0.0104267| 0.2121045| 0.4389796| 0.0105094| 0.1962787| 0.2321854|\n",
       "|multithreading  |GIL=1 workers.py  | 0.1304648| 0.0071726| 0.1292655| 0.1178397| 0.0081775| 0.1242261| 0.1582329|\n",
       "|multithreading  |GIL=0 workers.py  | 0.1677349| 0.0076839| 0.1685633| 0.1931002| 0.0202853| 0.1429964| 0.1760283|\n",
       "|ctypes          |invoke_hashcat.py | 0.0934947| 0.0031416| 0.0929726| 0.0882496| 0.0049164| 0.0891827| 0.0996272|\n",
       "|ctypes          |invoke_hashcat.py | 0.1021338| 0.0056378| 0.1003631| 0.0986943| 0.0083828| 0.0976012| 0.1269725|\n",
       "|cpython         |invoke_hashcat.py | 0.1006056| 0.0043579| 0.0997623| 0.0950439| 0.0052310| 0.0943297| 0.1081794|"
      ]
     },
     "metadata": {},
     "output_type": "display_data"
    }
   ],
   "source": [
    "df <- read.csv(\"data.csv\")\n",
    "kable(df)"
   ]
  },
  {
   "cell_type": "code",
   "execution_count": null,
   "metadata": {
    "vscode": {
     "languageId": "r"
    }
   },
   "outputs": [],
   "source": []
  }
 ],
 "metadata": {
  "kernelspec": {
   "display_name": "R",
   "language": "R",
   "name": "ir"
  },
  "language_info": {
   "codemirror_mode": "r",
   "file_extension": ".r",
   "mimetype": "text/x-r-source",
   "name": "R",
   "pygments_lexer": "r",
   "version": "4.4.1"
  }
 },
 "nbformat": 4,
 "nbformat_minor": 2
}
