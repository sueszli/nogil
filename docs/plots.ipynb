{
 "cells": [
  {
   "cell_type": "code",
   "execution_count": 6,
   "metadata": {},
   "outputs": [
    {
     "name": "stdout",
     "output_type": "stream",
     "text": [
      "Requirement already satisfied: plotnine in /Users/sueszli/dev/nogil/.venv/lib/python3.13/site-packages (0.14.1)\n",
      "Requirement already satisfied: pandas in /Users/sueszli/dev/nogil/.venv/lib/python3.13/site-packages (2.2.3)\n",
      "Collecting tabulate\n",
      "  Using cached tabulate-0.9.0-py3-none-any.whl.metadata (34 kB)\n",
      "Requirement already satisfied: matplotlib>=3.8.0 in /Users/sueszli/dev/nogil/.venv/lib/python3.13/site-packages (from plotnine) (3.9.2)\n",
      "Requirement already satisfied: mizani~=0.13.0 in /Users/sueszli/dev/nogil/.venv/lib/python3.13/site-packages (from plotnine) (0.13.0)\n",
      "Requirement already satisfied: numpy>=1.23.5 in /Users/sueszli/dev/nogil/.venv/lib/python3.13/site-packages (from plotnine) (2.1.3)\n",
      "Requirement already satisfied: scipy>=1.8.0 in /Users/sueszli/dev/nogil/.venv/lib/python3.13/site-packages (from plotnine) (1.14.1)\n",
      "Requirement already satisfied: statsmodels>=0.14.0 in /Users/sueszli/dev/nogil/.venv/lib/python3.13/site-packages (from plotnine) (0.14.4)\n",
      "Requirement already satisfied: python-dateutil>=2.8.2 in /Users/sueszli/dev/nogil/.venv/lib/python3.13/site-packages (from pandas) (2.9.0.post0)\n",
      "Requirement already satisfied: pytz>=2020.1 in /Users/sueszli/dev/nogil/.venv/lib/python3.13/site-packages (from pandas) (2024.2)\n",
      "Requirement already satisfied: tzdata>=2022.7 in /Users/sueszli/dev/nogil/.venv/lib/python3.13/site-packages (from pandas) (2024.2)\n",
      "Requirement already satisfied: contourpy>=1.0.1 in /Users/sueszli/dev/nogil/.venv/lib/python3.13/site-packages (from matplotlib>=3.8.0->plotnine) (1.3.1)\n",
      "Requirement already satisfied: cycler>=0.10 in /Users/sueszli/dev/nogil/.venv/lib/python3.13/site-packages (from matplotlib>=3.8.0->plotnine) (0.12.1)\n",
      "Requirement already satisfied: fonttools>=4.22.0 in /Users/sueszli/dev/nogil/.venv/lib/python3.13/site-packages (from matplotlib>=3.8.0->plotnine) (4.55.0)\n",
      "Requirement already satisfied: kiwisolver>=1.3.1 in /Users/sueszli/dev/nogil/.venv/lib/python3.13/site-packages (from matplotlib>=3.8.0->plotnine) (1.4.7)\n",
      "Requirement already satisfied: packaging>=20.0 in /Users/sueszli/dev/nogil/.venv/lib/python3.13/site-packages (from matplotlib>=3.8.0->plotnine) (24.2)\n",
      "Requirement already satisfied: pillow>=8 in /Users/sueszli/dev/nogil/.venv/lib/python3.13/site-packages (from matplotlib>=3.8.0->plotnine) (11.0.0)\n",
      "Requirement already satisfied: pyparsing>=2.3.1 in /Users/sueszli/dev/nogil/.venv/lib/python3.13/site-packages (from matplotlib>=3.8.0->plotnine) (3.2.0)\n",
      "Requirement already satisfied: six>=1.5 in /Users/sueszli/dev/nogil/.venv/lib/python3.13/site-packages (from python-dateutil>=2.8.2->pandas) (1.16.0)\n",
      "Requirement already satisfied: patsy>=0.5.6 in /Users/sueszli/dev/nogil/.venv/lib/python3.13/site-packages (from statsmodels>=0.14.0->plotnine) (1.0.1)\n",
      "Using cached tabulate-0.9.0-py3-none-any.whl (35 kB)\n",
      "Installing collected packages: tabulate\n",
      "Successfully installed tabulate-0.9.0\n"
     ]
    }
   ],
   "source": [
    "!pip install plotnine pandas tabulate"
   ]
  },
  {
   "cell_type": "code",
   "execution_count": null,
   "metadata": {},
   "outputs": [
    {
     "name": "stdout",
     "output_type": "stream",
     "text": [
      "|    | type            | command           |      mean |     stddev |    median |      user |     system |       min |       max |\n",
      "|---:|:----------------|:------------------|----------:|-----------:|----------:|----------:|-----------:|----------:|----------:|\n",
      "|  0 | plain           | itertools.py      | 0.567469  | 0.0119883  | 0.570065  | 0.559903  | 0.0074184  | 0.549638  | 0.586569  |\n",
      "|  1 | plain           | lib.py            | 0.10037   | 0.0026018  | 0.0995592 | 0.0950988 | 0.00515048 | 0.0976092 | 0.108629  |\n",
      "|  2 | plain           | plain.py          | 0.563118  | 0.00854626 | 0.560743  | 0.55741   | 0.0056163  | 0.556415  | 0.586366  |\n",
      "|  3 | multiprocessing | imap_unordered.py | 0.225802  | 0.0085966  | 0.223588  | 0.545673  | 0.166191   | 0.218431  | 0.244969  |\n",
      "|  4 | multiprocessing | imap.py           | 0.232832  | 0.00656316 | 0.230609  | 0.555453  | 0.162511   | 0.223567  | 0.242637  |\n",
      "|  5 | multiprocessing | map_async.py      | 0.452833  | 0.024858   | 0.448565  | 1.01004   | 0.110811   | 0.431474  | 0.516788  |\n",
      "|  6 | multiprocessing | map.py            | 0.440075  | 0.00433147 | 0.440577  | 0.985363  | 0.108434   | 0.432938  | 0.446772  |\n",
      "|  7 | multithreading  | GIL=1 executor.py | 0.369659  | 0.0103798  | 0.365851  | 0.359792  | 0.00922382 | 0.362101  | 0.396862  |\n",
      "|  8 | multithreading  | GIL=0 executor.py | 0.21027   | 0.0104267  | 0.212105  | 0.43898   | 0.0105094  | 0.196279  | 0.232185  |\n",
      "|  9 | multithreading  | GIL=1 workers.py  | 0.130465  | 0.00717258 | 0.129265  | 0.11784   | 0.00817749 | 0.124226  | 0.158233  |\n",
      "| 10 | multithreading  | GIL=0 workers.py  | 0.167735  | 0.00768393 | 0.168563  | 0.1931    | 0.0202853  | 0.142996  | 0.176028  |\n",
      "| 11 | ctypes          | invoke_hashcat.py | 0.0934947 | 0.00314156 | 0.0929726 | 0.0882496 | 0.00491642 | 0.0891827 | 0.0996272 |\n",
      "| 12 | ctypes          | invoke_hashcat.py | 0.102134  | 0.00563781 | 0.100363  | 0.0986943 | 0.00838276 | 0.0976012 | 0.126973  |\n",
      "| 13 | cpython         | invoke_hashcat.py | 0.100606  | 0.00435792 | 0.0997623 | 0.0950439 | 0.00523102 | 0.0943297 | 0.108179  |\n"
     ]
    }
   ],
   "source": [
    "from plotnine import *\n",
    "import pandas as pd\n",
    "\n",
    "df = pd.read_csv(\"./data.csv\")\n",
    "print(df.to_markdown())"
   ]
  },
  {
   "cell_type": "code",
   "execution_count": null,
   "metadata": {},
   "outputs": [],
   "source": []
  }
 ],
 "metadata": {
  "kernelspec": {
   "display_name": ".venv",
   "language": "python",
   "name": "python3"
  },
  "language_info": {
   "codemirror_mode": {
    "name": "ipython",
    "version": 3
   },
   "file_extension": ".py",
   "mimetype": "text/x-python",
   "name": "python",
   "nbconvert_exporter": "python",
   "pygments_lexer": "ipython3",
   "version": "3.13.0"
  }
 },
 "nbformat": 4,
 "nbformat_minor": 2
}
